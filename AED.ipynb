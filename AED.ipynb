{
  "nbformat": 4,
  "nbformat_minor": 0,
  "metadata": {
    "colab": {
      "name": "Cópia de AED.ipynb",
      "provenance": [],
      "collapsed_sections": []
    },
    "kernelspec": {
      "name": "python3",
      "display_name": "Python 3"
    }
  },
  "cells": [
    {
      "cell_type": "code",
      "metadata": {
        "id": "JNt2sjbCLXK8",
        "colab_type": "code",
        "colab": {}
      },
      "source": [
        "import pandas as pd # biblioteca para manipulação e visualização de dados\n",
        "import matplotlib.pyplot as plt # biblioteca para visualização de dados\n",
        "import seaborn as sns # biblioteca para visualização de dados\n",
        "\n",
        "\n",
        "# configurações dos gráficos\n",
        "plt.rcParams['figure.figsize'] = [6,4]#[15, 10]\n",
        "plt.rcParams['figure.dpi'] = 150\n",
        "plt.rcParams.update({'font.size': 10})"
      ],
      "execution_count": null,
      "outputs": []
    },
    {
      "cell_type": "code",
      "metadata": {
        "id": "yQ4-gJsDPeZ-",
        "colab_type": "code",
        "colab": {}
      },
      "source": [
        "# lendo os dados\n",
        "data = pd.read_csv('data.csv')\n",
        "data"
      ],
      "execution_count": null,
      "outputs": []
    },
    {
      "cell_type": "code",
      "metadata": {
        "id": "chiPoOv5Pkq8",
        "colab_type": "code",
        "colab": {}
      },
      "source": [
        "# mostrando as 5 primeiras linhas\n",
        "data.head(5)"
      ],
      "execution_count": null,
      "outputs": []
    },
    {
      "cell_type": "code",
      "metadata": {
        "id": "ZfslZ9HaPvlO",
        "colab_type": "code",
        "colab": {}
      },
      "source": [
        "# mostrando as 5 últimas linhas\n",
        "data.tail(5)"
      ],
      "execution_count": null,
      "outputs": []
    },
    {
      "cell_type": "code",
      "metadata": {
        "id": "wLHoNeH5QaTw",
        "colab_type": "code",
        "colab": {}
      },
      "source": [
        "# verificando os tipos dos dados\n",
        "data.dtypes"
      ],
      "execution_count": null,
      "outputs": []
    },
    {
      "cell_type": "code",
      "metadata": {
        "id": "FZs4MXBDQ2W_",
        "colab_type": "code",
        "colab": {}
      },
      "source": [
        "# removendo colunas desnecessárias\n",
        "data = data.drop(['Engine Fuel Type', 'Market Category', 'Vehicle Style', 'Popularity'], axis=1)\n",
        "data.head(5)"
      ],
      "execution_count": null,
      "outputs": []
    },
    {
      "cell_type": "code",
      "metadata": {
        "id": "rFRwdXViRQXV",
        "colab_type": "code",
        "colab": {}
      },
      "source": [
        "# renomeando colunas\n",
        "data = data.rename(columns={'Engine HP': 'HP', 'Engine Cylinders': 'Cylinders', 'Transmission Type': 'Transmission', 'Driven_Wheels': 'Drive Mode','highway MPG': 'MPG-H', 'city mpg': 'MPG-C', 'MSRP': 'Price' })\n",
        "data.head(5)"
      ],
      "execution_count": null,
      "outputs": []
    },
    {
      "cell_type": "code",
      "metadata": {
        "id": "v4z_qaHLSu16",
        "colab_type": "code",
        "colab": {}
      },
      "source": [
        "# descobrindo linhas duplicadas\n",
        "\n",
        "print(data.duplicated())\n",
        "data_linhas_duplicadas = data[data.duplicated()]\n",
        "print('Numero de linhas duplicadas', data_linhas_duplicadas.shape)\n",
        "print(data_linhas_duplicadas)\n",
        "\n",
        "# removendo linhas duplicadas\n",
        "print(data.shape)\n",
        "data = data.drop_duplicates(keep='last') # 'first', 'last', False\n",
        "print(data.shape)"
      ],
      "execution_count": null,
      "outputs": []
    },
    {
      "cell_type": "code",
      "metadata": {
        "id": "XYbeGBWxT3LL",
        "colab_type": "code",
        "colab": {}
      },
      "source": [
        "# encontrando valores nulos nos dados\n",
        "\n",
        "print(data.isnull())\n",
        "print(data.isnull().sum())\n",
        "print('---------------------')\n",
        "\n",
        "# # Substituindo/removendo valores nulos\n",
        "data = data.dropna(axis=0) #removendo as linhas com valores nulos\n",
        "# data = data.fillna(0) # substituindo todos os valores nulos por 0\n",
        "print(data.isnull().sum())\n",
        "print(data.shape)"
      ],
      "execution_count": null,
      "outputs": []
    },
    {
      "cell_type": "code",
      "metadata": {
        "id": "DrnQ0ZlrZaoI",
        "colab_type": "code",
        "colab": {}
      },
      "source": [
        "# Histograma\n",
        "\n",
        "print(data.HP.head(5))\n",
        "data.HP.hist(bins = 10) # bins é o número de colunas no histograma"
      ],
      "execution_count": null,
      "outputs": []
    },
    {
      "cell_type": "code",
      "metadata": {
        "id": "nPsNEOVJ2HO4",
        "colab_type": "code",
        "colab": {}
      },
      "source": [
        "# contando o número de ocorrências de cada valor da coluna do nosso dataframe\n",
        "print(data.HP.value_counts())"
      ],
      "execution_count": null,
      "outputs": []
    },
    {
      "cell_type": "code",
      "metadata": {
        "id": "1frgKg9zVxQ0",
        "colab_type": "code",
        "colab": {}
      },
      "source": [
        "# Boxplot\n",
        "sns.boxplot(x=data.HP,orient='h')"
      ],
      "execution_count": null,
      "outputs": []
    },
    {
      "cell_type": "code",
      "metadata": {
        "id": "_VjPkFhe6-JX",
        "colab_type": "code",
        "colab": {}
      },
      "source": [
        "# calculando várias medidas estatísticas da coluna do nosso dataframe\n",
        "data.HP.describe()"
      ],
      "execution_count": null,
      "outputs": []
    },
    {
      "cell_type": "code",
      "metadata": {
        "id": "P72BN10PtaFK",
        "colab_type": "code",
        "colab": {}
      },
      "source": [
        "# calculando os quartis\n",
        "data.HP.quantile([0.25,0.5,0.75])"
      ],
      "execution_count": null,
      "outputs": []
    },
    {
      "cell_type": "code",
      "metadata": {
        "id": "OoBtf90rJdOi",
        "colab_type": "code",
        "colab": {}
      },
      "source": [
        "# escolhendo um modelo específico\n",
        "bmw = data[data.Make == 'BMW']\n",
        "bmw"
      ],
      "execution_count": null,
      "outputs": []
    },
    {
      "cell_type": "code",
      "metadata": {
        "id": "q3jty2xnQ0u7",
        "colab_type": "code",
        "colab": {}
      },
      "source": [
        "# plotando o boxplot do HP para o modelo escolhido\n",
        "\n",
        "sns.boxplot(x=bmw.HP,orient='v')"
      ],
      "execution_count": null,
      "outputs": []
    },
    {
      "cell_type": "code",
      "metadata": {
        "id": "0EdQTL1X3eKR",
        "colab_type": "code",
        "colab": {}
      },
      "source": [
        "bmw.HP.describe()"
      ],
      "execution_count": null,
      "outputs": []
    }
  ]
}